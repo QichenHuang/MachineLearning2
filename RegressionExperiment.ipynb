{
 "cells": [
  {
   "cell_type": "code",
   "execution_count": 193,
   "metadata": {},
   "outputs": [],
   "source": [
    "%matplotlib inline"
   ]
  },
  {
   "cell_type": "code",
   "execution_count": 194,
   "metadata": {},
   "outputs": [],
   "source": [
    "#导入包\n",
    "import numpy as np\n",
    "from sklearn.datasets import load_svmlight_file\n",
    "from sklearn.model_selection import train_test_split\n",
    "import matplotlib.pyplot as plt"
   ]
  },
  {
   "cell_type": "code",
   "execution_count": 195,
   "metadata": {},
   "outputs": [],
   "source": [
    "#对率函数\n",
    "def h(x,w):\n",
    "    if(len(x)!=len(w)):\n",
    "        raise \"w和x长度不同\"\n",
    "    e = np.exp(-x.dot(w))\n",
    "    return 1/(1+e)\n",
    "#选取部分数据\n",
    "def select(X,y,num=100):\n",
    "    selection_X = []\n",
    "    selection_y = []\n",
    "    selectIndex = np.random.randint(0,len(X),num)\n",
    "    for i in selectIndex:\n",
    "        selection_X.append(X[i])\n",
    "        selection_y.append(y[i])\n",
    "    return np.array(selection_X),np.array(selection_y)\n",
    "def gradient(X,w,y):\n",
    "    if(len(y)!=len(X)):\n",
    "        raise \"y和X长度不同\"\n",
    "    if(len(X[0])!=len(w)):\n",
    "        raise \"X的列数与w的长度不同\"\n",
    "    sum = 0\n",
    "    for i in range(len(y)):\n",
    "        sum += (h(X[i],w)-y[i])*X[i]\n",
    "    return sum/len(y)\n",
    "def NAGOptimizer(X,w,y,trend):\n",
    "    if(len(y)!=len(X)):\n",
    "        raise \"y和X长度不同\"\n",
    "    a = 0.5\n",
    "    b = 0.05\n",
    "\n",
    "    trend = a*trend + gradient(X,w - a * b * trend,y)\n",
    "    w = w - b * trend\n",
    "    return w,trend\n",
    "def loss_function(X,w,y):\n",
    "    sum = 0\n",
    "    for i in range(len(y)):\n",
    "        if(y[i]==0):\n",
    "            sum+=np.log(1-h(X[i],w))\n",
    "        else:\n",
    "            sum+=np.log(h(X[i],w))\n",
    "    return -sum/len(y)"
   ]
  },
  {
   "cell_type": "code",
   "execution_count": 196,
   "metadata": {},
   "outputs": [
    {
     "data": {
      "text/plain": [
       "Text(0,0.5,'NAG loss')"
      ]
     },
     "execution_count": 196,
     "metadata": {},
     "output_type": "execute_result"
    },
    {
     "data": {
      "image/png": "[encoded data removed]",
      "text/plain": [
       "<matplotlib.figure.Figure at 0xfb560b8>"
      ]
     },
     "metadata": {},
     "output_type": "display_data"
    }
   ],
   "source": [
    "#读取训练数据\n",
    "X_train,y_train = load_svmlight_file(\"a9a.txt\")\n",
    "X_train = X_train.toarray()\n",
    "for i in range(len(y_train)):\n",
    "    if(y_train[i]==-1):\n",
    "        y_train[i]=0\n",
    "#读取验证数据\n",
    "X_validation,y_validation = load_svmlight_file(\"a9a.t\")\n",
    "X_validation = X_validation.toarray()\n",
    "for i in range(len(y_validation)):\n",
    "    if(y_validation[i]==-1):\n",
    "        y_validation[i]=0\n",
    "#补全特征特征\n",
    "ones = [[1]]*len(X_train)\n",
    "X_train = np.concatenate((X_train,ones),axis = 1)\n",
    "zeros = [[0]]*len(X_validation)\n",
    "X_validation = np.concatenate((X_validation,zeros),axis = 1)\n",
    "ones = [[1]]*len(X_validation)\n",
    "X_validation = np.concatenate((X_validation,ones),axis = 1)\n",
    "#参数初始化\n",
    "w = np.zeros(len(X_train[0]))\n",
    "\n",
    "#进行NAG优化\n",
    "trend = w.copy()\n",
    "NAG_loss = [loss_function(X_validation,w,y_validation)]\n",
    "for i in range(100):\n",
    "    part_X,part_y = select(X_train,y_train)\n",
    "    w,trend = NAGOptimizer(part_X,w,part_y,trend)\n",
    "    NAG_loss.append(loss_function(X_validation,w,y_validation))\n",
    "\n",
    "plt.plot(range(101),NAG_loss ,label=\"NAG_loss\",)\n",
    "plt.legend(loc = \"best\")\n",
    "ax = plt.gca()\n",
    "ax.set_xlabel(\"number of iterations\")\n",
    "ax.set_ylabel(\"NAG loss\")"
   ]
  }
 ],
 "metadata": {
  "kernelspec": {
   "display_name": "Python 3",
   "language": "python",
   "name": "python3"
  },
  "language_info": {
   "codemirror_mode": {
    "name": "ipython",
    "version": 3
   },
   "file_extension": ".py",
   "mimetype": "text/x-python",
   "name": "python",
   "nbconvert_exporter": "python",
   "pygments_lexer": "ipython3",
   "version": "3.5.2"
  }
 },
 "nbformat": 4,
 "nbformat_minor": 2
}
